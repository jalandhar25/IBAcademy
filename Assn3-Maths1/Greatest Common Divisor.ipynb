{
 "cells": [
  {
   "cell_type": "markdown",
   "metadata": {},
   "source": [
    "## Greatest Common Divisor:\n",
    "Given 2 non negative integers m and n, find gcd(m, n) GCD of 2 integers m and n is defined as the greatest integer g such that g is a divisor of both m and n. Both m and n fit in a 32 bit signed integer. Example\n",
    "m : 6\n",
    "n : 9\n",
    "\n",
    "GCD(m, n) : 3 "
   ]
  },
  {
   "cell_type": "code",
   "execution_count": 2,
   "metadata": {},
   "outputs": [
    {
     "data": {
      "text/plain": [
       "8"
      ]
     },
     "execution_count": 2,
     "metadata": {},
     "output_type": "execute_result"
    }
   ],
   "source": [
    "def gcd(a, b):\n",
    "    if a == 0:\n",
    "        return b\n",
    "    return gcd(b%a, a)\n",
    "\n",
    "gcd(16,8)"
   ]
  },
  {
   "cell_type": "code",
   "execution_count": null,
   "metadata": {},
   "outputs": [],
   "source": [
    "class Solution:\n",
    "    def gcd(self, a, b):\n",
    "        gcd = 1\n",
    "        m = min(a, b)\n",
    "        if a == b:\n",
    "            return a\n",
    "        if a == 0:\n",
    "            return b\n",
    "        if b == 0:\n",
    "            return a\n",
    "        for i in range(m, 1, -1):\n",
    "            if a%i == 0 and b%i == 0:\n",
    "                gcd = i\n",
    "                break\n",
    "        return gcd"
   ]
  },
  {
   "cell_type": "code",
   "execution_count": 49,
   "metadata": {},
   "outputs": [
    {
     "name": "stdout",
     "output_type": "stream",
     "text": [
      "8\n"
     ]
    }
   ],
   "source": [
    "class Solution():\n",
    "    def gcd(self, A, B):\n",
    "        #print(A,B)\n",
    "        res = self.gcd_helper(A, B)\n",
    "        return res\n",
    "    \n",
    "    def gcd_helper(self, A, B):\n",
    "        if A == 0:\n",
    "            return B\n",
    "        return self.gcd_helper(B%A, A)\n",
    "    \n",
    "o = Solution()\n",
    "print(o.gcd(16,8))"
   ]
  }
 ],
 "metadata": {
  "kernelspec": {
   "display_name": "Python 3",
   "language": "python",
   "name": "python3"
  },
  "language_info": {
   "codemirror_mode": {
    "name": "ipython",
    "version": 3
   },
   "file_extension": ".py",
   "mimetype": "text/x-python",
   "name": "python",
   "nbconvert_exporter": "python",
   "pygments_lexer": "ipython3",
   "version": "3.7.3"
  }
 },
 "nbformat": 4,
 "nbformat_minor": 2
}
