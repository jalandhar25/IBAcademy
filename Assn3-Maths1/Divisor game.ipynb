{
 "cells": [
  {
   "cell_type": "markdown",
   "metadata": {},
   "source": [
    "## Divisor game:\n",
    "Scooby has 3 three integers A, B and C. Scooby calls a positive integer special if it is divisible by B and it is divisible by C. You need to tell number of special integers less than or equal to A.\n",
    "\n",
    "### Constraints:\n",
    "1<=A,B,C<=1000000000\n",
    "\n",
    "### Input:\n",
    "A positive integer A\n",
    "A positive integer B\n",
    "A positive integer C\n",
    "\n",
    "### Note:\n",
    "Your code will run against multiple testcases\n",
    "\n",
    "### Output:\n",
    "One integer corresponding to the number of special integers less than or equal to A.\n",
    "\n",
    "## Examples:\n",
    "### Input:\n",
    "12\n",
    "\n",
    "3\n",
    "\n",
    "2\n",
    "\n",
    "### Output:\n",
    "2\n",
    "\n",
    "### Explanation:\n",
    "The two integers divisible by 2 and 3 and less than or equal to 12 are 6,12."
   ]
  },
  {
   "cell_type": "code",
   "execution_count": 2,
   "metadata": {},
   "outputs": [
    {
     "name": "stdout",
     "output_type": "stream",
     "text": [
      "1\n"
     ]
    }
   ],
   "source": [
    "def divisorGame(a, b, c):\n",
    "    gcd = 1\n",
    "    m = min(b, c)\n",
    "    if b == c:\n",
    "        gcd = b\n",
    "    if b == 0:\n",
    "        gcd = c\n",
    "    if c == 0:\n",
    "        gcd = b\n",
    "    for i in range(m, 1, -1):\n",
    "        if c%i == 0 and b%i == 0:\n",
    "            gcd = i\n",
    "            break\n",
    "    lcm = (b * c)// gcd\n",
    "    #print(gcd, lcm)\n",
    "    return a // lcm\n",
    "A = 52503\n",
    "B = 9013\n",
    "C = 2254\n",
    "print(divisorGame(35,5,7))"
   ]
  }
 ],
 "metadata": {
  "kernelspec": {
   "display_name": "Python 3",
   "language": "python",
   "name": "python3"
  },
  "language_info": {
   "codemirror_mode": {
    "name": "ipython",
    "version": 3
   },
   "file_extension": ".py",
   "mimetype": "text/x-python",
   "name": "python",
   "nbconvert_exporter": "python",
   "pygments_lexer": "ipython3",
   "version": "3.7.3"
  }
 },
 "nbformat": 4,
 "nbformat_minor": 2
}
