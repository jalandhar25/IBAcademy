{
 "cells": [
  {
   "cell_type": "code",
   "execution_count": null,
   "metadata": {},
   "outputs": [],
   "source": []
  },
  {
   "cell_type": "markdown",
   "metadata": {},
   "source": [
    "## Enumerating GCD:\n",
    "You are given a number P and a number Q. Greatest Common Divisor (GCD) of all numbers between P and Q inclusive is taken (GCD(P, P+1, P+2 ... Q)). As this problem looks a bit easy, it is given that numbers P and Q can be in the range of 10100. You have to return the value of GCD found. Greatest common divisor of 2 numbers A and B is the largest number D that divides both A and B perfectly.\n",
    "\n",
    "### Input:\n",
    "P: String\n",
    "\n",
    "Q: String\n",
    "\n",
    "### Output: \n",
    "Your function should return a string which contains the digits of the integer which represents the GCD. The returned string should not have any leading zeroes.\n",
    "\n",
    "### Constraints:\n",
    "1 <= P <= Q <= 10^100\n",
    "\n",
    "## Example:\n",
    "### Input:\n",
    "P: 1\n",
    "\n",
    "Q: 3\n",
    "\n",
    "### Output:\n",
    "1\n",
    "\n",
    "Greatest divisor that divides both 1 and 3 is 1.\n",
    "\n",
    "### Input:\n",
    "P: 3412\n",
    "\n",
    "Q: 3412\n",
    "\n",
    "\n",
    "### Output:\n",
    "3412\n",
    "\n",
    "As both the numbers are the same, greatest divisor that divides 3412 is 3412."
   ]
  },
  {
   "cell_type": "code",
   "execution_count": 83,
   "metadata": {},
   "outputs": [
    {
     "name": "stdout",
     "output_type": "stream",
     "text": [
      "3412\n"
     ]
    }
   ],
   "source": [
    "class Solution:\n",
    "    # @param A : string\n",
    "    # @param B : string\n",
    "    # @return a strings\n",
    "    def solve(self, A, B):\n",
    "        p = int(A)\n",
    "        q = int(B)\n",
    "        if p == q:\n",
    "            return p\n",
    "        else:\n",
    "            return 1\n",
    "o = Solution()\n",
    "print(o.solve(3412,3412))"
   ]
  }
 ],
 "metadata": {
  "kernelspec": {
   "display_name": "Python 3",
   "language": "python",
   "name": "python3"
  },
  "language_info": {
   "codemirror_mode": {
    "name": "ipython",
    "version": 3
   },
   "file_extension": ".py",
   "mimetype": "text/x-python",
   "name": "python",
   "nbconvert_exporter": "python",
   "pygments_lexer": "ipython3",
   "version": "3.7.3"
  }
 },
 "nbformat": 4,
 "nbformat_minor": 2
}
