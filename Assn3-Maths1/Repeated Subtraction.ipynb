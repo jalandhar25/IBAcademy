{
 "cells": [
  {
   "cell_type": "markdown",
   "metadata": {},
   "source": [
    "## Repeated Subtraction:\n",
    "You are given 2 numbers P and Q. An operation on these 2 numbers is defined as follows: Take the smaller number of the 2 numbers and subtract it from the bigger number. Keep performing this operation till either of the following criterion is met:\n",
    "\n",
    "Both numbers become equal.\n",
    "\n",
    "Either of the number becomes 0.\n",
    "\n",
    "Find the sum of the final values of P and Q. \n",
    "\n",
    "### Constraints:\n",
    "0 <= P,Q <= 1e9\n",
    "\n",
    "### Input:\n",
    "Two integers P and Q\n",
    "\n",
    "### Output:\n",
    "Sum of the final values of P and Q\n",
    "\n",
    "### Example: Input:\n",
    "P : 5 \n",
    "\n",
    "Q : 15\n",
    "\n",
    "### Output:\n",
    "10\n",
    "\n",
    "### Explanation:\n",
    "For the first operation, smaller of P and Q is P.\n",
    "\n",
    "So we subtract P from Q which gives us the new values of P and Q as 5 and 10 resp.\n",
    "\n",
    "For the second operation, smaller of P and Q is P.\n",
    "\n",
    "So we subtract P from Q which gives us the new values of P and Q as 5 and 5 resp.\n",
    "\n",
    "Since the values of P and Q are now same, we output the sum of these values=10."
   ]
  },
  {
   "cell_type": "code",
   "execution_count": 1,
   "metadata": {},
   "outputs": [
    {
     "name": "stdout",
     "output_type": "stream",
     "text": [
      "10\n"
     ]
    }
   ],
   "source": [
    "class Solution:\n",
    "    # @param A : integer\n",
    "    # @param B : integer\n",
    "    # @return an integer\n",
    "    def getFinal(self, a, b):\n",
    "        if a == 0:\n",
    "            return b\n",
    "        if b == 0:\n",
    "            return a\n",
    "        res = self.getFinalHelper(a, b)\n",
    "        return res*2\n",
    "    def getFinalHelper(self, A, B):\n",
    "        if A == 0:\n",
    "            return B\n",
    "        return self.getFinalHelper(B%A, A)\n",
    "    \n",
    "o = Solution()\n",
    "print(o.getFinal(5,15))"
   ]
  }
 ],
 "metadata": {
  "kernelspec": {
   "display_name": "Python 3",
   "language": "python",
   "name": "python3"
  },
  "language_info": {
   "codemirror_mode": {
    "name": "ipython",
    "version": 3
   },
   "file_extension": ".py",
   "mimetype": "text/x-python",
   "name": "python",
   "nbconvert_exporter": "python",
   "pygments_lexer": "ipython3",
   "version": "3.7.3"
  }
 },
 "nbformat": 4,
 "nbformat_minor": 2
}
