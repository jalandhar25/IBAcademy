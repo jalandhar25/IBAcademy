{
 "cells": [
  {
   "cell_type": "markdown",
   "metadata": {},
   "source": [
    "## Excel Column Number:\n",
    "Given a column title as appears in an Excel sheet, return its corresponding column number. Example:\n",
    "    A -> 1\n",
    "\n",
    "    B -> 2\n",
    "\n",
    "    C -> 3\n",
    "\n",
    "    ...\n",
    "\n",
    "    Z -> 26\n",
    "\n",
    "    AA -> 27\n",
    "\n",
    "    AB -> 28 "
   ]
  },
  {
   "cell_type": "code",
   "execution_count": 1,
   "metadata": {},
   "outputs": [
    {
     "name": "stdout",
     "output_type": "stream",
     "text": [
      "731\n"
     ]
    }
   ],
   "source": [
    "class Solution:\n",
    "    # @param A : string\n",
    "    # @return an integer\n",
    "    def titleToNumber(self, a):\n",
    "        res = 0\n",
    "        for c in a:\n",
    "            res = res * 26 + (ord(c) - ord('A')) + 1\n",
    "        return res\n",
    "        \n",
    "o = Solution()\n",
    "print(o.titleToNumber('ABC'))"
   ]
  },
  {
   "cell_type": "code",
   "execution_count": 29,
   "metadata": {},
   "outputs": [
    {
     "name": "stdout",
     "output_type": "stream",
     "text": [
      "98\n"
     ]
    }
   ],
   "source": [
    "a = 'abcd'\n",
    "print(ord(a[1]))"
   ]
  }
 ],
 "metadata": {
  "kernelspec": {
   "display_name": "Python 3",
   "language": "python",
   "name": "python3"
  },
  "language_info": {
   "codemirror_mode": {
    "name": "ipython",
    "version": 3
   },
   "file_extension": ".py",
   "mimetype": "text/x-python",
   "name": "python",
   "nbconvert_exporter": "python",
   "pygments_lexer": "ipython3",
   "version": "3.7.3"
  }
 },
 "nbformat": 4,
 "nbformat_minor": 2
}
