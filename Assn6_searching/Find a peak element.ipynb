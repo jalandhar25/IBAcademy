{
 "cells": [
  {
   "cell_type": "markdown",
   "metadata": {},
   "source": [
    "## Find a peak element:\n",
    "Given an array of integers A, find and return the peak element in it. An array element is peak if it is NOT smaller than its neighbors. For corner elements, we need to consider only one neighbor.\n",
    "\n",
    "For example, for input array {5, 10, 20, 15}, 20 is the only peak element.\n",
    "\n",
    "Following corner cases give better idea about the problem.\n",
    "1) If input array is sorted in strictly increasing order, the last element is always a peak element. \n",
    "For example, 5 is peak element in {1, 2, 3, 4, 5}.\n",
    "\n",
    "2) If input array is sorted in strictly decreasing order, the first element is always a peak element. \n",
    "10 is the peak element in {10, 9, 8, 7, 6}.\n",
    "\n",
    "Note: It is guranteed that the answer is unique. \n",
    "\n",
    "### Input Format\n",
    "The only argument given is the integer array A.\n",
    "\n",
    "### Output Format\n",
    "Return the peak element.\n",
    "\n",
    "### Constraints\n",
    "1 <= length of the array <= 100000\n",
    "\n",
    "1 <= A[i] <= 10^9 \n",
    "\n",
    "## For Example\n",
    "### Input 1:\n",
    "    A = [1, 2, 3, 4, 5]\n",
    "\n",
    "### Output 1:\n",
    "    5\n",
    "\n",
    "### Input 2:\n",
    "    A = [5, 17, 100, 11]\n",
    "### Output 2:\n",
    "    100"
   ]
  },
  {
   "cell_type": "code",
   "execution_count": 13,
   "metadata": {},
   "outputs": [
    {
     "name": "stdout",
     "output_type": "stream",
     "text": [
      "5\n"
     ]
    }
   ],
   "source": [
    "class Solution:\n",
    "    # @param A : list of integers\n",
    "    # @return an integer\n",
    "    def solve(self, a):\n",
    "        n = len(a)\n",
    "        lo, hi = 0, n-1\n",
    "        while lo <= hi:\n",
    "            mid = lo + (hi-lo) // 2\n",
    "            if (a[mid] == 0 or a[mid-1] <= a[mid]) and (mid == n-1 or a[mid+1] <= a[mid]):\n",
    "                return a[mid]\n",
    "            elif mid > 0 and a[mid-1] > a[mid]:\n",
    "                hi = mid-1\n",
    "            else:\n",
    "                lo = mid+1\n",
    "        return -1\n",
    "    \n",
    "o = Solution()\n",
    "print(o.solve([1,2,3,4,5]))\n"
   ]
  }
 ],
 "metadata": {
  "kernelspec": {
   "display_name": "Python 3",
   "language": "python",
   "name": "python3"
  },
  "language_info": {
   "codemirror_mode": {
    "name": "ipython",
    "version": 3
   },
   "file_extension": ".py",
   "mimetype": "text/x-python",
   "name": "python",
   "nbconvert_exporter": "python",
   "pygments_lexer": "ipython3",
   "version": "3.7.3"
  }
 },
 "nbformat": 4,
 "nbformat_minor": 2
}
