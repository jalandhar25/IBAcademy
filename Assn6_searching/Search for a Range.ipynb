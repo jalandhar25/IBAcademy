{
 "cells": [
  {
   "cell_type": "markdown",
   "metadata": {},
   "source": [
    "## Search for a Range:\n",
    "Given a sorted array of integers, find the starting and ending position of a given target value. Your algorithm's runtime complexity must be in the order of O(log n). If the target is not found in the array, return [-1, -1]. \n",
    "\n",
    "## Example:\n",
    "Given [5, 7, 7, 8, 8, 10] and target value 8, \n",
    "\n",
    "return [3, 4]."
   ]
  },
  {
   "cell_type": "code",
   "execution_count": 10,
   "metadata": {},
   "outputs": [
    {
     "name": "stdout",
     "output_type": "stream",
     "text": [
      "(1, 2)\n"
     ]
    }
   ],
   "source": [
    "class Solution:\n",
    "    # @param A : tuple of integers\n",
    "    # @param B : integer\n",
    "    # @return a list of integers\n",
    "    def searchRange(self, a, k):\n",
    "        n = len(a)\n",
    "        lo, hi = 0, n-1\n",
    "        while lo <= hi:\n",
    "            mid = lo + (hi-lo) // 2\n",
    "            if a[mid] == k:\n",
    "                start = mid\n",
    "                hi = mid-1\n",
    "            elif a[mid] > k:\n",
    "                hi = mid-1\n",
    "            else:\n",
    "                lo = mid+1\n",
    "        lo, hi = start, n-1\n",
    "        while lo <= hi:\n",
    "            mid = lo + (hi-lo) // 2\n",
    "            if a[mid] == k:\n",
    "                end = mid\n",
    "                lo = mid+1\n",
    "            elif a[mid] > k:\n",
    "                hi = mid-1\n",
    "            else:\n",
    "                lo = mid+1\n",
    "        return start,end\n",
    "o = Solution()\n",
    "print(o.searchRange([5,7,7,8,8,10], 7))"
   ]
  }
 ],
 "metadata": {
  "kernelspec": {
   "display_name": "Python 3",
   "language": "python",
   "name": "python3"
  },
  "language_info": {
   "codemirror_mode": {
    "name": "ipython",
    "version": 3
   },
   "file_extension": ".py",
   "mimetype": "text/x-python",
   "name": "python",
   "nbconvert_exporter": "python",
   "pygments_lexer": "ipython3",
   "version": "3.7.3"
  }
 },
 "nbformat": 4,
 "nbformat_minor": 2
}
