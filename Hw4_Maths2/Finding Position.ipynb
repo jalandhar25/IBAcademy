{
 "cells": [
  {
   "cell_type": "markdown",
   "metadata": {},
   "source": [
    "## Finding Position:\n",
    "Given an integer A which denotes the number of people standing in the queue. A selection process follows a rule where people standing on even positions are selected. Of the selected people a queue is formed and again out of these only people on even position are selected. This continues until we are left with one person. Find and return the position of that person in the original queue. \n",
    "\n",
    "### Input Format\n",
    "The only argument given is integer A.\n",
    "\n",
    "### Output Format\n",
    "Return the position of the last selected person in the original queue.\n",
    "\n",
    "### Constraints\n",
    "1 <= A <= 10^9\n",
    "\n",
    "## For Example\n",
    "\n",
    "### Input 1:\n",
    "    A = 10\n",
    "\n",
    "### Output 1:\n",
    "    8\n",
    "\n",
    "### Input 2:\n",
    "    A = 20\n",
    "\n",
    "### Output 2:\n",
    "    16"
   ]
  },
  {
   "cell_type": "code",
   "execution_count": 7,
   "metadata": {},
   "outputs": [
    {
     "name": "stdout",
     "output_type": "stream",
     "text": [
      "4\n"
     ]
    }
   ],
   "source": [
    "class Solution:\n",
    "    # @param A : integer\n",
    "    # @return an integer\n",
    "    def solve(self, n):\n",
    "        cnt = 0\n",
    "        while n > 1:\n",
    "            n = n //2\n",
    "            cnt += 1\n",
    "        return 2 ** cnt\n",
    "o = Solution()\n",
    "print(o.solve(6))\n"
   ]
  }
 ],
 "metadata": {
  "kernelspec": {
   "display_name": "Python 3",
   "language": "python",
   "name": "python3"
  },
  "language_info": {
   "codemirror_mode": {
    "name": "ipython",
    "version": 3
   },
   "file_extension": ".py",
   "mimetype": "text/x-python",
   "name": "python",
   "nbconvert_exporter": "python",
   "pygments_lexer": "ipython3",
   "version": "3.7.3"
  }
 },
 "nbformat": 4,
 "nbformat_minor": 2
}
