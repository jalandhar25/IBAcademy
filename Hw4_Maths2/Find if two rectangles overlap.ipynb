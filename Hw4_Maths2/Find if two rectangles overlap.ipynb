{
 "cells": [
  {
   "cell_type": "markdown",
   "metadata": {},
   "source": [
    "## Find if two rectangles overlap:\n",
    "Given eight integers A, B, C, D, E, F, G and H which represent two rectangles in a 2D plane. For the first rectangle it's bottom left corner is (A, B) and top right corner is (C, D) and for the second rectangle it's bottom left corner is (E, F) and top right corner is (G, H). Find and return whether the two rectangles overlap or not. \n",
    "\n",
    "### Input Format\n",
    "The eight arguments given are the integers A, B, C, D, E, F, G and H.\n",
    "\n",
    "### Output Format\n",
    "Return 1 if the two rectangles overlap else return 0.\n",
    "\n",
    "### Constraints\n",
    "-10000 <= A < C <= 10000\n",
    "\n",
    "-10000 <= B < D <= 10000\n",
    "\n",
    "-10000 <= E < G <= 10000\n",
    "\n",
    "-10000 <= F < H <= 10000\n",
    "\n",
    "## For Example\n",
    "### Input 1:\n",
    "    A = 0   B = 0\n",
    "    C = 4   D = 4\n",
    "    E = 2   F = 2\n",
    "    G = 6   H = 6\n",
    "\n",
    "### Output 1:\n",
    "    1\n",
    "\n",
    "### Input 2:\n",
    "    A = 0   B = 0\n",
    "    C = 4   D = 4\n",
    "    E = 2   F = 2\n",
    "    G = 3   H = 3\n",
    "\n",
    "### Output 2:\n",
    "    1"
   ]
  },
  {
   "cell_type": "code",
   "execution_count": 7,
   "metadata": {},
   "outputs": [
    {
     "name": "stdout",
     "output_type": "stream",
     "text": [
      "1\n"
     ]
    }
   ],
   "source": [
    "class Solution:\n",
    "    # @param A : integer\n",
    "    # @param B : integer\n",
    "    # @param C : integer\n",
    "    # @param D : integer\n",
    "    # @param E : integer\n",
    "    # @param F : integer\n",
    "    # @param G : integer\n",
    "    # @param H : integer\n",
    "    # @return an integer\n",
    "    def solve(self, a, b, c, d, e, f, g, h):\n",
    "        res = c > e and a < g and d > f and b < h  \n",
    "        if res == False:\n",
    "            return 0\n",
    "        return 1\n",
    "\n",
    "o = Solution()\n",
    "print(o.solve(0,0,4,4,2,2,3,3))"
   ]
  }
 ],
 "metadata": {
  "kernelspec": {
   "display_name": "Python 3",
   "language": "python",
   "name": "python3"
  },
  "language_info": {
   "codemirror_mode": {
    "name": "ipython",
    "version": 3
   },
   "file_extension": ".py",
   "mimetype": "text/x-python",
   "name": "python",
   "nbconvert_exporter": "python",
   "pygments_lexer": "ipython3",
   "version": "3.7.3"
  }
 },
 "nbformat": 4,
 "nbformat_minor": 2
}
