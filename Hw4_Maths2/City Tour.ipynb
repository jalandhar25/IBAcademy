{
 "cells": [
  {
   "cell_type": "markdown",
   "metadata": {},
   "source": [
    "## City Tour:\n",
    "There are A cities numbered from 1 to A. You have already visited M cities, the indices of which are given in an array B of M integers. If a city with index i is visited, you can visit either the city with index i-1 (i >= 2) or the city with index i+1 (i < A) if they are not already visited.\n",
    "\n",
    "Eg: if N = 5 and array M consists of [3, 4], then in the first level of moves, you can either visit 2 or 5. You keep visiting cities in this fashion until all the cities are not visited.\n",
    "\n",
    "Find the number of ways in which you can visit all the cities modulo 10^9+7.\n",
    "### Input Format\n",
    "The 1st argument given is an integer A, i.e total number of cities.\n",
    "\n",
    "The 2nd argument given is an integer array B, where B[i] denotes ith city you already visited.\n",
    "\n",
    "### Output Format\n",
    "Return an Integer X % (1e9 + 7), number of ways in which you can visit all the cities.\n",
    "\n",
    "### Constraints\n",
    "1 <= A <= 1000\n",
    "\n",
    "1 <= M <= A\n",
    "\n",
    "1 <= B[i] <= A\n",
    "\n",
    "## For Example\n",
    "### Input:\n",
    "    A = 5\n",
    "    B = [2, 5]\n",
    "\n",
    "### Output:\n",
    "    6\n",
    "\n",
    "### Explanation:\n",
    "    All possible ways to visit remaining cities are :\n",
    "    1. 1 -> 3 -> 4\n",
    "    2. 1 -> 4 -> 3\n",
    "    3. 3 -> 1 -> 4\n",
    "    4. 3 -> 4 -> 1\n",
    "    5. 4 -> 1 -> 3\n",
    "    6. 4 -> 3 -> 1"
   ]
  },
  {
   "cell_type": "code",
   "execution_count": 2,
   "metadata": {},
   "outputs": [
    {
     "name": "stdout",
     "output_type": "stream",
     "text": [
      "1\n"
     ]
    }
   ],
   "source": [
    "import sys\n",
    "sys.setrecursionlimit(5000)\n",
    "\n",
    "class Solution:\n",
    "    # @param A : integer\n",
    "    # @param B : list of integers\n",
    "    # @return an integer\n",
    "    def calc_combs(self, L1, C1, L2, C2, memo):\n",
    "        return C1 * C2 * self.fact(L1 + L2, memo) // (self.fact(L1, memo) * self.fact(L2, memo))\n",
    "\n",
    "    def fact(self, n, memo):\n",
    "        if n in memo: return memo[n]\n",
    "        if n <= 1: return 1\n",
    "        v = self.fact(n - 1, memo) * n\n",
    "        memo[n] = v\n",
    "        return v\n",
    "\n",
    "    def solve(self, A, B):\n",
    "        if not B: return 0\n",
    "        mod = 1000000007\n",
    "        memo = {}\n",
    "        B = sorted(B)\n",
    "\n",
    "        # 1...B[0] has 1 possible placements of length B[0] - 1\n",
    "        length, combinations = B[0] - 1, 1\n",
    "\n",
    "        for i in range(1, len(B)):\n",
    "            if B[i - 1] == B[i]: continue\n",
    "            if B[i - 1] + 1 == B[i]: continue\n",
    "            l = (B[i] - B[i - 1] - 1) % mod\n",
    "            c = (1 << (l - 1)) % mod\n",
    "            combinations = self.calc_combs(length, combinations, l, c, memo) % mod\n",
    "            length += l\n",
    "\n",
    "        # B[-1]...A has 1 possible placements of length A - B[-1]\n",
    "        return self.calc_combs(length, combinations, A - B[-1], 1, memo) % mod\n",
    "    \n",
    "o = Solution()\n",
    "print(o.solve(3, [1]))"
   ]
  }
 ],
 "metadata": {
  "kernelspec": {
   "display_name": "Python 3",
   "language": "python",
   "name": "python3"
  },
  "language_info": {
   "codemirror_mode": {
    "name": "ipython",
    "version": 3
   },
   "file_extension": ".py",
   "mimetype": "text/x-python",
   "name": "python",
   "nbconvert_exporter": "python",
   "pygments_lexer": "ipython3",
   "version": "3.7.3"
  }
 },
 "nbformat": 4,
 "nbformat_minor": 2
}
