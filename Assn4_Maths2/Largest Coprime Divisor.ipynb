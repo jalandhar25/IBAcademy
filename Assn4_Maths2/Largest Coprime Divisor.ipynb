{
 "cells": [
  {
   "cell_type": "markdown",
   "metadata": {},
   "source": [
    "## Largest Coprime Divisor:\n",
    "You are given two positive numbers A and B. You need to find the maximum valued integer X such that:\n",
    "\n",
    "X divides A i.e. A % X = 0\n",
    "\n",
    "X and B are co-prime i.e. gcd(X, B) = 1\n",
    "\n",
    "### For example,\n",
    "A = 30\n",
    "\n",
    "B = 12\n",
    "\n",
    "We return\n",
    "\n",
    "X = 5"
   ]
  },
  {
   "cell_type": "code",
   "execution_count": 26,
   "metadata": {},
   "outputs": [
    {
     "data": {
      "text/plain": [
       "90"
      ]
     },
     "execution_count": 26,
     "metadata": {},
     "output_type": "execute_result"
    }
   ],
   "source": [
    "class Solution:\n",
    "\t# @param A : integer\n",
    "\t# @param B : integer\n",
    "\t# @return an integer\n",
    "    def cpFact(self, a, b):\n",
    "        while self.gcd(a, b) != 1: \n",
    "            a = a / self.gcd(a, b) \n",
    "        return int(a) \n",
    "    def gcd(self, A, B):\n",
    "        #print(A,B)\n",
    "        res = self.gcd_helper(A, B)\n",
    "        return res\n",
    "    \n",
    "    def gcd_helper(self, A, B):\n",
    "        if A == 0:\n",
    "            return B\n",
    "        return self.gcd_helper(B%A, A)\n",
    "\n",
    "o = Solution()\n",
    "o.cpFact(90, 47)"
   ]
  }
 ],
 "metadata": {
  "kernelspec": {
   "display_name": "Python 3",
   "language": "python",
   "name": "python3"
  },
  "language_info": {
   "codemirror_mode": {
    "name": "ipython",
    "version": 3
   },
   "file_extension": ".py",
   "mimetype": "text/x-python",
   "name": "python",
   "nbconvert_exporter": "python",
   "pygments_lexer": "ipython3",
   "version": "3.7.3"
  }
 },
 "nbformat": 4,
 "nbformat_minor": 2
}
