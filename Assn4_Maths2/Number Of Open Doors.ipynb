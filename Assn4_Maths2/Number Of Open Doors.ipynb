{
 "cells": [
  {
   "cell_type": "markdown",
   "metadata": {},
   "source": [
    "## Number Of Open Doors:\n",
    "Given an integer A which denotes the number of doors in a row numbered 1 to A. All the doors are closed initially. A person moves to and fro changing the states of the doors as follows: the person opens a door that is already closed and closes a door that is already opened. In the first go, the person alters the states of doors numbered 1, 2, 3, … , A. In the second go, she alters the states of doors numbered 2, 4, 6 … In the third go, she alters the states of doors numbered 3, 6, 9 … This continues till the A'th go in which you alter the state of the door numbered A. Find and return the number of open doors at the end of the procedure. \n",
    "\n",
    "### Input Format\n",
    "The only argument given is integer A.\n",
    "\n",
    "### Output Format\n",
    "Return the number of open doors at the end of the procedure.\n",
    "\n",
    "### Constraints\n",
    "1 <= A <= 10^9\n",
    "\n",
    "## For Example\n",
    "\n",
    "### Input 1:\n",
    "    A = 10\n",
    "\n",
    "### Output 1:\n",
    "    3\n",
    "\n",
    "### Input 2:\n",
    "    A = 20\n",
    "\n",
    "### Output 2:\n",
    "    4"
   ]
  },
  {
   "cell_type": "code",
   "execution_count": 2,
   "metadata": {},
   "outputs": [
    {
     "name": "stdout",
     "output_type": "stream",
     "text": [
      "4\n"
     ]
    }
   ],
   "source": [
    "import math\n",
    "class Solution:\n",
    "    # @param A : integer\n",
    "    # @return an integer\n",
    "    def solve(self, n):\n",
    "        return math.floor(math.sqrt(n)) \n",
    "\n",
    "o = Solution()\n",
    "print(o.solve(20))"
   ]
  }
 ],
 "metadata": {
  "kernelspec": {
   "display_name": "Python 3",
   "language": "python",
   "name": "python3"
  },
  "language_info": {
   "codemirror_mode": {
    "name": "ipython",
    "version": 3
   },
   "file_extension": ".py",
   "mimetype": "text/x-python",
   "name": "python",
   "nbconvert_exporter": "python",
   "pygments_lexer": "ipython3",
   "version": "3.7.3"
  }
 },
 "nbformat": 4,
 "nbformat_minor": 2
}
