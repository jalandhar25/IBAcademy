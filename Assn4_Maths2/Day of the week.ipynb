{
 "cells": [
  {
   "cell_type": "markdown",
   "metadata": {},
   "source": [
    "## Day of the week:\n",
    "Given three integers A, B and C, find and return the day of the week for the given date A/B/C where A represents the date, B represents the month and C represents the year. Assume that Jan 1st 1 AD is a Monday in Gregorian calendar. February has 28 days(excluding leap years when it has 29 days). Leap year is a year that is either (divisible by 400) or (divisible by 4 and not divisible by 100). \n",
    "\n",
    "### Input Format\n",
    "The 3 arguments given are the integers A, B and C.\n",
    "\n",
    "### Output Format\n",
    "Return the day of the year as a string of lower case english alphabets.\n",
    "\n",
    "Answer will be one of the following {sunday, monday, tuesday, wednesday, thursday, friday, saturday}.\n",
    "\n",
    "### Constraints\n",
    "1 <= A <= 31\n",
    "\n",
    "1 <= B <= 12\n",
    "\n",
    "1990 <= C <= 2100\n",
    "\n",
    "## For Example\n",
    "\n",
    "### Input 1:\n",
    "    A = 19\n",
    "    B = 4\n",
    "    C = 2019\n",
    "\n",
    "### Output 1:\n",
    "    friday\n",
    "\n",
    "### Input 2:\n",
    "    A = 7\n",
    "    B = 10\n",
    "    C = 1996\n",
    "\n",
    "### Output 2:\n",
    "    monday"
   ]
  },
  {
   "cell_type": "code",
   "execution_count": 34,
   "metadata": {},
   "outputs": [
    {
     "data": {
      "text/plain": [
       "'friday'"
      ]
     },
     "execution_count": 34,
     "metadata": {},
     "output_type": "execute_result"
    }
   ],
   "source": [
    "def dayOfWeek(d, m, y):\n",
    "    map = {1:'monday', 2:'tuesday', 3:'wednesday', 4:'thursday', 5:'friday', 6:'saturday', 0:'sunday'}\n",
    "    t = [ 0, 3, 2, 5, 0, 3, \n",
    "          5, 1, 4, 6, 2, 4 ] \n",
    "    y -= m < 3\n",
    "    ans = (( y + int(y / 4) - int(y / 100) \n",
    "             + int(y / 400) + t[m - 1] + d) % 7) \n",
    "    return map[ans]\n",
    "\n",
    "dayOfWeek(19,4,2019)"
   ]
  }
 ],
 "metadata": {
  "kernelspec": {
   "display_name": "Python 3",
   "language": "python",
   "name": "python3"
  },
  "language_info": {
   "codemirror_mode": {
    "name": "ipython",
    "version": 3
   },
   "file_extension": ".py",
   "mimetype": "text/x-python",
   "name": "python",
   "nbconvert_exporter": "python",
   "pygments_lexer": "ipython3",
   "version": "3.7.3"
  }
 },
 "nbformat": 4,
 "nbformat_minor": 2
}
