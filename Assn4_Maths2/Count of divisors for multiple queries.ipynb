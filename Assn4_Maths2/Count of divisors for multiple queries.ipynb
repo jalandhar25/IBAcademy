{
 "cells": [
  {
   "cell_type": "markdown",
   "metadata": {},
   "source": [
    "## Count of divisors for multiple queries:\n",
    "Given an array of integers A, find and return the count of divisors of each element of the array.\n",
    "\n",
    "Note: Order of the resultant array should be same as the input array. \n",
    "\n",
    "### Input Format\n",
    "The only argument given is the integer array A.\n",
    "\n",
    "### Output Format\n",
    "Return the count of divisors of each element of the array in the form of an array.\n",
    "\n",
    "### Constraints\n",
    "1 <= length of the array <= 100000\n",
    "\n",
    "1 <= A[i] <= 10^6\n",
    "\n",
    "## For Example\n",
    "\n",
    "### Input 1:\n",
    "    A = [2, 3, 4, 5]\n",
    "\n",
    "### Output 1:\n",
    "    [2, 2, 3, 2]\n",
    "\n",
    "### Input 2:\n",
    "    A = [10, 20]\n",
    "\n",
    "### Output 2:\n",
    "    [4, 6]"
   ]
  },
  {
   "cell_type": "code",
   "execution_count": 1,
   "metadata": {},
   "outputs": [
    {
     "name": "stdout",
     "output_type": "stream",
     "text": [
      "[3, 3, 6, 3, 9]\n"
     ]
    }
   ],
   "source": [
    "class Solution:\n",
    "    def divisors(self, a):\n",
    "        res = []\n",
    "        for i in range(len(a)):\n",
    "            res.append(self.divisors_helper(a[i]))\n",
    "        return res\n",
    "    def divisors_helper(self, n):\n",
    "        if n == 1:\n",
    "            return 1\n",
    "        p = self.isPrime(n)\n",
    "        if p == True:\n",
    "            return 2\n",
    "        else:\n",
    "            count=2\n",
    "            i=2\n",
    "            while(i**2 < n):\n",
    "                if(n%i==0):\n",
    "                    count+=2\n",
    "                i+=1\n",
    "            count+=(1 if i**2==n else 0)\n",
    "            return count  \n",
    "    def isPrime(self, n):\n",
    "        if n == 2:\n",
    "            return True\n",
    "        i = 2\n",
    "        while i**2 <= n:\n",
    "            if n%i == 0:\n",
    "                return False\n",
    "            i+=1\n",
    "        return True\n",
    "o = Solution()\n",
    "a = [4,9,12,25,36]\n",
    "print(o.divisors(a))"
   ]
  },
  {
   "cell_type": "code",
   "execution_count": null,
   "metadata": {},
   "outputs": [],
   "source": [
    "class Solution:\n",
    "    def divisors(self, a):\n",
    "        m = min(a)\n",
    "        M = max(a)\n",
    "        primes = self.sieves(m, M)\n",
    "        res = []\n",
    "        for i in range(len(a)):\n",
    "            if primes.get(i, False) == False:\n",
    "                res.append(self.divisors_helper(a[i]))\n",
    "            else:\n",
    "                res.append(2)\n",
    "        return res\n",
    "    def divisors_helper(self, n):\n",
    "        if n == 1:\n",
    "            return 1\n",
    "        p = self.isPrime(n)\n",
    "        if p == True:\n",
    "            return 2\n",
    "        else:\n",
    "            count=2\n",
    "            i=2\n",
    "            while(i**2 < n):\n",
    "                if(n%i==0):\n",
    "                    count+=2\n",
    "                i+=1\n",
    "            count+=(1 if i**2==n else 0)\n",
    "            return count  \n",
    "    def sieves(self, n):\n",
    "        if n == 2:\n",
    "            return True\n",
    "        i = 2\n",
    "        while i**2 <= n:\n",
    "            if n%i == 0:\n",
    "                return False\n",
    "            i+=1\n",
    "        return True\n",
    "o = Solution()\n",
    "a = [4,9,16,25,36]\n",
    "print(o.divisors(a))"
   ]
  },
  {
   "cell_type": "code",
   "execution_count": 13,
   "metadata": {},
   "outputs": [
    {
     "name": "stderr",
     "output_type": "stream",
     "text": [
      "IOPub data rate exceeded.\n",
      "The notebook server will temporarily stop sending output\n",
      "to the client in order to avoid crashing it.\n",
      "To change this limit, set the config variable\n",
      "`--NotebookApp.iopub_data_rate_limit`.\n",
      "\n",
      "Current values:\n",
      "NotebookApp.iopub_data_rate_limit=1000000.0 (bytes/sec)\n",
      "NotebookApp.rate_limit_window=3.0 (secs)\n",
      "\n"
     ]
    }
   ],
   "source": [
    "import math\n",
    "def sieves():\n",
    "    maxV = 1000000\n",
    "    spf = [0 for i in range(maxV)]\n",
    "    spf[1] = 1\n",
    "    for i in range(2, maxV):\n",
    "        spf[i] = i\n",
    "    #print(spf)\n",
    "    size =math.ceil(math.sqrt(maxV))\n",
    "    for i in range(2, size):\n",
    "        if spf[i] == i:\n",
    "            j = 2*i\n",
    "            while j < maxV:\n",
    "                if spf[j] == j:\n",
    "                    spf[j] = i\n",
    "                j += i\n",
    "    print(spf)\n",
    "sieves()"
   ]
  }
 ],
 "metadata": {
  "kernelspec": {
   "display_name": "Python 3",
   "language": "python",
   "name": "python3"
  },
  "language_info": {
   "codemirror_mode": {
    "name": "ipython",
    "version": 3
   },
   "file_extension": ".py",
   "mimetype": "text/x-python",
   "name": "python",
   "nbconvert_exporter": "python",
   "pygments_lexer": "ipython3",
   "version": "3.7.3"
  }
 },
 "nbformat": 4,
 "nbformat_minor": 2
}
