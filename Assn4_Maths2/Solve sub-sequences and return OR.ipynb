{
 "cells": [
  {
   "cell_type": "markdown",
   "metadata": {},
   "source": [
    "## Solve sub-sequences and return OR:\n",
    "A subsequence is a sequence that can be derived from another sequence by deleting some elements without changing the order of the remaining elements. For example, the sequence {2, 3, 5} is a subsequence of {1, 2, 3, 4, 5} obtained after removal of elements {1, 4}. Given is an array of integers A of size N. An array of size N can have (2^N - 1) number of non empty subsequences. \n",
    "\n",
    "For the given function:\n",
    "solve (int subsequence[]) {\n",
    "    int count[];    //array initialised to 0.\n",
    "    for(int i = 0; i < subsequence.length; i++) {\n",
    "        number = subsequence[i];\n",
    "        for(int j = 2; j <= number; j++) {\n",
    "            if(number % j == 0) {\n",
    "                count[j]++;\n",
    "                if(count[j] == subsequence.length)  return 0;\n",
    "            }\n",
    "        }\n",
    "    }\n",
    "    return 1;\n",
    "}\n",
    "\n",
    "If all the subsequences of the array A are passed in the above function. What will be the bitwise OR of all the returned values from the given function. \n",
    "\n",
    "### Input Format\n",
    "The only argument given is the integer array A.\n",
    "\n",
    "### Output Format\n",
    "Return the bitwise OR of all the returned values.\n",
    "\n",
    "### Constraints\n",
    "1 <= length of the array <= 100000\n",
    "\n",
    "1 <= A[i] <= 10^9 \n",
    "\n",
    "## For Example\n",
    "### Input 1:\n",
    "    A = [1, 2, 3]\n",
    "\n",
    "### Output 1:\n",
    "    1\n",
    "\n",
    "### Input 2:\n",
    "    A = [2, 4, 6, 8]\n",
    "\n",
    "### Output 2:\n",
    "    0"
   ]
  },
  {
   "cell_type": "code",
   "execution_count": 4,
   "metadata": {},
   "outputs": [
    {
     "name": "stdout",
     "output_type": "stream",
     "text": [
      "1\n"
     ]
    }
   ],
   "source": [
    "class Solution:\n",
    "    # @param A : list of integers\n",
    "    # @return an integer\n",
    "    def solve(self, a):\n",
    "        if len(a) == 1:\n",
    "            return 1\n",
    "        x = a[0]\n",
    "        y = a[1]\n",
    "        gcd = self.findGCD(x, y)\n",
    "        for i in range(2, len(a)):\n",
    "            gcd = self.findGCD(gcd, a[i])\n",
    "        if gcd > 1:\n",
    "            return 0\n",
    "        return gcd\n",
    "    def findGCD(self, a, b):\n",
    "        res = self.gcd_helper(a, b)\n",
    "        return res\n",
    "    def gcd_helper(self, a, b):\n",
    "        if a == 0:\n",
    "            return b\n",
    "        return self.gcd_helper(b%a, a)\n",
    "o = Solution()\n",
    "print(o.solve([3]))"
   ]
  }
 ],
 "metadata": {
  "kernelspec": {
   "display_name": "Python 3",
   "language": "python",
   "name": "python3"
  },
  "language_info": {
   "codemirror_mode": {
    "name": "ipython",
    "version": 3
   },
   "file_extension": ".py",
   "mimetype": "text/x-python",
   "name": "python",
   "nbconvert_exporter": "python",
   "pygments_lexer": "ipython3",
   "version": "3.7.3"
  }
 },
 "nbformat": 4,
 "nbformat_minor": 2
}
