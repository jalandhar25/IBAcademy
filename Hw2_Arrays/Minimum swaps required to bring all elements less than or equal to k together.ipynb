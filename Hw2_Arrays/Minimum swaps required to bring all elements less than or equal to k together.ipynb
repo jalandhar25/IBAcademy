{
 "cells": [
  {
   "cell_type": "markdown",
   "metadata": {},
   "source": [
    "## Minimum swaps required to bring all elements less than or equal to k together:\n",
    "Given an array of integers A and an integer B, find and return the minimum number of swaps required to bring all the numbers less than or equal to B together.\n",
    "\n",
    "Note: It is possible to swap any two elements, not necessarily consecutive. \n",
    "\n",
    "### Input Format\n",
    "The first argument given is the integer array A.\n",
    "\n",
    "The second argument given is the integer B.\n",
    "\n",
    "### Output Format\n",
    "Return the minimum number of swaps.\n",
    "\n",
    "### Constraints\n",
    "1 <= length of the array <= 100000\n",
    "\n",
    "-10^9 <= A[i], B <= 10^9 \n",
    "\n",
    "### For Example\n",
    "### Input 1:\n",
    "    A = [1, 12, 10, 3, 14, 10, 5]\n",
    "    \n",
    "    B = 8\n",
    "\n",
    "### Output 1:\n",
    "    2\n",
    "\n",
    "### Input 2:\n",
    "    A = [5, 17, 100, 11]\n",
    "    \n",
    "    B = 20\n",
    "\n",
    "### Output 2:\n",
    "    1"
   ]
  },
  {
   "cell_type": "code",
   "execution_count": 7,
   "metadata": {},
   "outputs": [
    {
     "name": "stdout",
     "output_type": "stream",
     "text": [
      "2\n"
     ]
    }
   ],
   "source": [
    "def minSwaps(a, k):\n",
    "    n = len(a)\n",
    "    left_pointer = 0\n",
    "    for i in range(0, n) : \n",
    "        if (a[i] <= k) : \n",
    "            left_pointer = left_pointer + 1\n",
    "    right_pointer = 0\n",
    "    for i in range(0, left_pointer) : \n",
    "        if (a[i] > k) : \n",
    "            right_pointer = right_pointer + 1 \n",
    "    res = right_pointer \n",
    "    j = left_pointer \n",
    "    for i in range(0, n) : \n",
    "        if(j == n) : \n",
    "            break\n",
    "        if (a[i] > k) : \n",
    "            right_pointer = right_pointer - 1\n",
    "        if (a[j] > k) : \n",
    "            right_pointer = right_pointer + 1\n",
    "        res = min(res, right_pointer) \n",
    "        j += 1\n",
    "    return res \n",
    "\n",
    "A = [1, 12, 10, 3, 14, 10, 5]\n",
    "print(minSwaps(A, 8))"
   ]
  }
 ],
 "metadata": {
  "kernelspec": {
   "display_name": "Python 3",
   "language": "python",
   "name": "python3"
  },
  "language_info": {
   "codemirror_mode": {
    "name": "ipython",
    "version": 3
   },
   "file_extension": ".py",
   "mimetype": "text/x-python",
   "name": "python",
   "nbconvert_exporter": "python",
   "pygments_lexer": "ipython3",
   "version": "3.7.3"
  }
 },
 "nbformat": 4,
 "nbformat_minor": 2
}
