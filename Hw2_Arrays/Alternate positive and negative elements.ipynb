{
 "cells": [
  {
   "cell_type": "markdown",
   "metadata": {},
   "source": [
    "## Alternate positive and negative elements:\n",
    "Given an array of integers A, arrange them in an alternate fashion such that every non-negative number is followed by negative and vice-versa, starting from a negative number, maintaining the order of appearance. The number of non-negative and negative numbers need not be equal. If there are more non-negative numbers they appear at the end of the array. If there are more negative numbers, they too appear at the end of the array.\n",
    "\n",
    "Note: Try solving with O(1) extra space. \n",
    "\n",
    "### Input Format\n",
    "The first argument given is the integer array A.\n",
    "\n",
    "### Output Format\n",
    "Return the modified array.\n",
    "\n",
    "### Constraints\n",
    "1 <= length of the array <= 7000\n",
    "\n",
    "-10^9 <= A[i] <= 10^9 \n",
    "\n",
    "## For Example\n",
    "\n",
    "### Input 1:\n",
    "    A = [-1, -2, -3, 4, 5]\n",
    "\n",
    "### Output 1:\n",
    "    [-1, 4, -2, 5, -3]\n",
    "\n",
    "### Input 2:\n",
    "    A = [5, -17, -100, -11]\n",
    "\n",
    "### Output 2:\n",
    "    [-17, 5, -100, -11]"
   ]
  },
  {
   "cell_type": "code",
   "execution_count": 28,
   "metadata": {},
   "outputs": [
    {
     "name": "stdout",
     "output_type": "stream",
     "text": [
      "[-17, 5, -100, -11]\n"
     ]
    }
   ],
   "source": [
    "class Solution:\n",
    "    def solve(self, a):\n",
    "        n = len(a)\n",
    "        odd = -1\n",
    "        for i in range(n): \n",
    "            if(odd >= 0): \n",
    "                if((a[i] >= 0 and a[odd] < 0) or\n",
    "                (a[i] < 0 and a[odd] >= 0)): \n",
    "                    a = self.shiftElements(a, n, odd, i) \n",
    "                    if(i-odd > 2): \n",
    "                        odd += 2\n",
    "                    else: \n",
    "                        odd =- 1\n",
    "            if(odd == -1): \n",
    "                if((a[i] >= 0 and i % 2 == 0) or\n",
    "                (a[i] < 0 and i % 2 == 1)): \n",
    "                    odd = i \n",
    "        return a \n",
    "    def shiftElements(self, a, n, odd, cur): \n",
    "        temp = a[cur] \n",
    "        for i in range(cur, odd, -1): \n",
    "            a[i] = a[i - 1] \n",
    "        a[odd] = temp \n",
    "        return a \n",
    "\n",
    "o = Solution()\n",
    "A = [5, -17, -100, -11]\n",
    "print(o.solve(A))"
   ]
  }
 ],
 "metadata": {
  "kernelspec": {
   "display_name": "Python 3",
   "language": "python",
   "name": "python3"
  },
  "language_info": {
   "codemirror_mode": {
    "name": "ipython",
    "version": 3
   },
   "file_extension": ".py",
   "mimetype": "text/x-python",
   "name": "python",
   "nbconvert_exporter": "python",
   "pygments_lexer": "ipython3",
   "version": "3.7.3"
  }
 },
 "nbformat": 4,
 "nbformat_minor": 2
}
