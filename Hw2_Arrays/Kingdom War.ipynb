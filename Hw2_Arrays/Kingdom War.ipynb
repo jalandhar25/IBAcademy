{
 "cells": [
  {
   "cell_type": "markdown",
   "metadata": {},
   "source": [
    "## Kingdom War:\n",
    "Two kingdoms are on a war right now, kingdom X and kingdom Y. As a war specialist of kingdom X, you scouted kingdom Y area. A kingdom area is defined as a N x M grid with each cell denoting a village. Each cell has a value which denotes the strength of each corresponding village. The strength can also be negative, representing those warriors of your kingdom who were held hostages. There's also another thing to be noticed.\n",
    "\n",
    "The strength of any village on row larger than one (2<=r<=N) is stronger or equal to the strength of village which is exactly above it.\n",
    "\n",
    "The strength of any village on column larger than one (2<=c<=M) is stronger or equal to the strength of vilage which is exactly to its left. (stronger means having higher value as defined above).\n",
    "\n",
    "So your task is, find the largest sum of strength that you can erase by bombing one sub-matrix in the grid.\n",
    "\n",
    "### Input format:\n",
    "First line consists of 2 integers N and M denoting the number of rows and columns in the grid respectively.\n",
    "The next N lines, consists of M integers each denoting the strength of each cell.\n",
    "\n",
    "1 <= N <= 1500\n",
    "\n",
    "1 <= M <= 1500\n",
    "\n",
    "-200 <= Cell Strength <= 200\n",
    "\n",
    "### Output:\n",
    "The largest sum of strength that you can get by choosing one sub-matrix.\n",
    "\n",
    "## Example:\n",
    "\n",
    "### Input:\n",
    "3 3\n",
    "\n",
    "-5 -4 -1\n",
    "\n",
    "-3 2 4\n",
    "\n",
    "2 5 8\n",
    "\n",
    "### Output:\n",
    "19\n",
    "\n",
    "### Explanation:\n",
    "Bomb the sub-matrix from (2,2) to (3,3): 2 + 4 + 5 + 8 = 19"
   ]
  },
  {
   "cell_type": "code",
   "execution_count": 1,
   "metadata": {},
   "outputs": [
    {
     "name": "stdout",
     "output_type": "stream",
     "text": [
      "19\n"
     ]
    }
   ],
   "source": [
    "def kingdomWar(a):\n",
    "    n = len(a)\n",
    "    m = len(a[0])\n",
    "    dp = [[0 for i in range(n+1)] for j in range(m+1)]\n",
    "    ans = -9999999999\n",
    "    for i in range(n-1, -1, -1):\n",
    "        for j in range(m-1, -1, -1):\n",
    "            dp[i][j] = a[i][j] + dp[i+1][j] + dp[i][j+1]-dp[i+1][j+1]\n",
    "            ans = max(ans, dp[i][j])\n",
    "    return ans\n",
    "            \n",
    "a = [ [-5, -4, -1],\n",
    "      [-3, 2, 4],  \n",
    "    [2, 5, 8] ]\n",
    "\n",
    "print(kingdomWar(a))"
   ]
  },
  {
   "cell_type": "code",
   "execution_count": 24,
   "metadata": {},
   "outputs": [
    {
     "name": "stdout",
     "output_type": "stream",
     "text": [
      "3\n"
     ]
    }
   ],
   "source": [
    "def kingdomWar(a):\n",
    "    m = len(a)\n",
    "    n = len(a[0])\n",
    "    suffix_sum = [[0 for i in range(n)] for i in range(m)]\n",
    "    for i in range(m):\n",
    "        suffix_sum[i][n-1] = a[i][n-1]\n",
    "    for i in range(m):\n",
    "        for j in range(n-2, -1, -1):\n",
    "            suffix_sum[i][j] = a[i][j] + suffix_sum[i][j+1]\n",
    "    for i in range(m-2, -1, -1):\n",
    "        for j in range(n):\n",
    "            suffix_sum[i][j] += suffix_sum[i+1][j]\n",
    "    res = -99999999999\n",
    "    for i in range(m):\n",
    "        curr_max = max(suffix_sum[i])\n",
    "        res = max(curr_max, res)\n",
    "    return res\n",
    "a = [ [-5, -4, -1],\n",
    "      [-3, 2, 4],  \n",
    "    [2, 5, 8] ]\n",
    "\n",
    "print(kingdomWar(a))"
   ]
  }
 ],
 "metadata": {
  "kernelspec": {
   "display_name": "Python 3",
   "language": "python",
   "name": "python3"
  },
  "language_info": {
   "codemirror_mode": {
    "name": "ipython",
    "version": 3
   },
   "file_extension": ".py",
   "mimetype": "text/x-python",
   "name": "python",
   "nbconvert_exporter": "python",
   "pygments_lexer": "ipython3",
   "version": "3.7.3"
  }
 },
 "nbformat": 4,
 "nbformat_minor": 2
}
