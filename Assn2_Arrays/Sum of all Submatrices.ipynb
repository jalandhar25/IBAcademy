{
 "cells": [
  {
   "cell_type": "markdown",
   "metadata": {},
   "source": [
    "## Sum of all Submatrices:\n",
    "Given a 2D Matrix of dimensions N*N, we need to return sum of all possible submatrices.\n",
    "\n",
    "### Example Input\n",
    "[ [1,1],\n",
    "\n",
    "  [1,1] ]\n",
    "\n",
    "### Example Output\n",
    "16\n",
    "\n",
    "### Explanation\n",
    "Number of submatrices with 1 elements = 4, so sum of all such submatrices = 4*1 = 4\n",
    "\n",
    "Number of submatrices with 2 elements = 4, so sum of all such submatrices = 4*2 = 8\n",
    "\n",
    "Number of submatrices with 3 elements = 0\n",
    "\n",
    "Number of submatrices with 4 elements = 1, so sum of such submatrix = 4\n",
    "\n",
    "Total Sum = 4+8+4 = 16"
   ]
  },
  {
   "cell_type": "code",
   "execution_count": 3,
   "metadata": {},
   "outputs": [
    {
     "data": {
      "text/plain": [
       "12456"
      ]
     },
     "execution_count": 3,
     "metadata": {},
     "output_type": "execute_result"
    }
   ],
   "source": [
    "def sum(a):\n",
    "    m = len(a)\n",
    "    n = len(a[0])\n",
    "    sum = 0\n",
    "    for i in range(m):\n",
    "        for j in range(n):\n",
    "            x = ((i+1) * (j+1))\n",
    "            y = ((n-i) * (n-j))\n",
    "            res = x * y\n",
    "            sum += a[i][j] * res\n",
    "    return sum\n",
    "\n",
    "a = [\n",
    "  [1, 2, 5, 4, 2, 5],\n",
    "  [9, 8, 7, 1, 3, 8],\n",
    "  [5, 6, 0, 7, 3, 1],\n",
    "  [1, 8, 3, 2, 3, 1],\n",
    "  [6, 7, 4, 2, 0, 9],\n",
    "  [9, 1, 1, 4, 6, 4]\n",
    "]\n",
    "\n",
    "sum(a)"
   ]
  }
 ],
 "metadata": {
  "kernelspec": {
   "display_name": "Python 3",
   "language": "python",
   "name": "python3"
  },
  "language_info": {
   "codemirror_mode": {
    "name": "ipython",
    "version": 3
   },
   "file_extension": ".py",
   "mimetype": "text/x-python",
   "name": "python",
   "nbconvert_exporter": "python",
   "pygments_lexer": "ipython3",
   "version": "3.7.3"
  }
 },
 "nbformat": 4,
 "nbformat_minor": 2
}
