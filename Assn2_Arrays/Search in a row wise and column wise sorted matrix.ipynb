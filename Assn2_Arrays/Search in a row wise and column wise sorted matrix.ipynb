{
 "cells": [
  {
   "cell_type": "markdown",
   "metadata": {},
   "source": [
    "## Search in a row wise and column wise sorted matrix:\n",
    "Given a matrix of integers A of size N x M and an integer B. In the given matrix every row and column is sorted in increasing order. Find and return the position of B in the matrix in the given form:\n",
    "\n",
    "If A[i][j] = B then return (i * 1009 + j)\n",
    "\n",
    "And if B is not present return -1 instead. \n",
    "\n",
    "Note: Rows are numbered from top to bottom and columns are numbered from left to right. \n",
    "\n",
    "### Input Format\n",
    "The first argument given is the integer matrix A.\n",
    "\n",
    "The second argument given is the integer B.\n",
    "\n",
    "### Output Format\n",
    "Return the position of B and if it is not present in A return -1 instead.\n",
    "\n",
    "### Constraints\n",
    "1 <= N, M <= 1000\n",
    "\n",
    "-100000 <= A[i] <= 100000\n",
    "\n",
    "-100000 <= B <= 100000\n",
    "\n",
    "## For Example\n",
    "\n",
    "### Input 1:\n",
    "    A = [   [1, 2, 3]\n",
    "            [4, 5, 6]\n",
    "            [7, 8, 9]   ]\n",
    "    B = 2\n",
    "\n",
    "### Output 1:\n",
    "    1011    (= 1 * 1009 + 2)\n",
    "\n",
    "### Input 2:\n",
    "    A = [   [1, 3, 5, 7]\n",
    "            [2, 4, 6, 8]    ]\n",
    "    B = 10\n",
    "\n",
    "### Output 2:\n",
    "    -1"
   ]
  },
  {
   "cell_type": "code",
   "execution_count": 54,
   "metadata": {},
   "outputs": [
    {
     "name": "stdout",
     "output_type": "stream",
     "text": [
      "2 4\n"
     ]
    },
    {
     "data": {
      "text/plain": [
       "-1"
      ]
     },
     "execution_count": 54,
     "metadata": {},
     "output_type": "execute_result"
    }
   ],
   "source": [
    "def find(a, k):\n",
    "    m = len(a)\n",
    "    n = len(a[0])\n",
    "    print(m, n)\n",
    "    i = 0\n",
    "    j = n -1\n",
    "    bFlag = False\n",
    "    while i != m and j != -1:\n",
    "        if a[i][j] > k:\n",
    "            j -= 1\n",
    "        elif a[i][j] < k:\n",
    "            i += 1\n",
    "        else:\n",
    "            res_i = i\n",
    "            res_j = j\n",
    "            bFlag = True\n",
    "            break\n",
    "    if bFlag is True:\n",
    "         return res_i, res_j\n",
    "    else:\n",
    "        return -1\n",
    "    \n",
    "l = [   [1, 3, 5, 7],\n",
    "        [2, 4, 6, 8]    ]\n",
    "(find(l,19))"
   ]
  }
 ],
 "metadata": {
  "kernelspec": {
   "display_name": "Python 3",
   "language": "python",
   "name": "python3"
  },
  "language_info": {
   "codemirror_mode": {
    "name": "ipython",
    "version": 3
   },
   "file_extension": ".py",
   "mimetype": "text/x-python",
   "name": "python",
   "nbconvert_exporter": "python",
   "pygments_lexer": "ipython3",
   "version": "3.7.3"
  }
 },
 "nbformat": 4,
 "nbformat_minor": 2
}
