{
 "cells": [
  {
   "cell_type": "markdown",
   "metadata": {},
   "source": [
    "## Rearrange the array:\n",
    "Given an array of integers A of size N that is a permutation of [0, 1, 2, ..., (N-1)]. Rearrange the array such that A[i] = j is changed to A[j] = i for all i and j form 0 to N-1. Note: Try solving this with O(1) extra space. \n",
    "\n",
    "### Input Format\n",
    "The only argument given is the integer array A.\n",
    "\n",
    "### Output Format\n",
    "Return the rearranged array A.\n",
    "\n",
    "### Constraints\n",
    "1 <= N <= 100000\n",
    "\n",
    "0 <= A[i] < N\n",
    "\n",
    "## For Example\n",
    "\n",
    "### Input 1:\n",
    "    A = [1, 2, 3, 4, 0]\n",
    "\n",
    "### Output 1:\n",
    "    [4, 0, 1, 2, 3]\n",
    "\n",
    "### Input 2:\n",
    "    A = [2, 0, 1, 3]\n",
    "\n",
    "### Output 2:\n",
    "    [1, 2, 0, 3]"
   ]
  },
  {
   "cell_type": "code",
   "execution_count": 2,
   "metadata": {},
   "outputs": [
    {
     "name": "stdout",
     "output_type": "stream",
     "text": [
      "[1, 2, 0, 3]\n"
     ]
    }
   ],
   "source": [
    "def rearrange(l):\n",
    "    d = {}\n",
    "    for i in l:\n",
    "        d[l[i]] =d.get(l[i], i)\n",
    "    #print(d)\n",
    "    n = len(l)\n",
    "    res = [0]*n\n",
    "    for i in d.keys():\n",
    "        res[i] = d.get(i)\n",
    "    return res\n",
    "    \n",
    "    \n",
    "    \n",
    "    \n",
    "l = [2,0,1,3]\n",
    "print(rearrange(l))"
   ]
  }
 ],
 "metadata": {
  "kernelspec": {
   "display_name": "Python 3",
   "language": "python",
   "name": "python3"
  },
  "language_info": {
   "codemirror_mode": {
    "name": "ipython",
    "version": 3
   },
   "file_extension": ".py",
   "mimetype": "text/x-python",
   "name": "python",
   "nbconvert_exporter": "python",
   "pygments_lexer": "ipython3",
   "version": "3.7.3"
  }
 },
 "nbformat": 4,
 "nbformat_minor": 2
}
