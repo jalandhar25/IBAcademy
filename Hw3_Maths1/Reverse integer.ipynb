{
 "cells": [
  {
   "cell_type": "markdown",
   "metadata": {},
   "source": [
    "## Reverse integer:\n",
    "Reverse digits of an integer.\n",
    "\n",
    "### Example1:\n",
    "x = 123, return 321 \n",
    "\n",
    "### Example2:\n",
    "x = -123, return -321 \n",
    "\n",
    "Return 0 if the result overflows and does not fit in a 32 bit signed integer"
   ]
  },
  {
   "cell_type": "code",
   "execution_count": 2,
   "metadata": {},
   "outputs": [
    {
     "data": {
      "text/plain": [
       "-4321"
      ]
     },
     "execution_count": 2,
     "metadata": {},
     "output_type": "execute_result"
    }
   ],
   "source": [
    "def reverse(x):\n",
    "    sign = -1 if x < 0 else 1\n",
    "    x *= sign\n",
    "    while x:\n",
    "        if x % 10 == 0:\n",
    "            x /= 10\n",
    "        else:\n",
    "            break\n",
    "    x = str(x)\n",
    "    lst = list(x)  \n",
    "    lst.reverse()\n",
    "    x = \"\".join(lst)\n",
    "    x = int(x)\n",
    "    return sign*x\n",
    "\n",
    "reverse(-1234)"
   ]
  },
  {
   "cell_type": "code",
   "execution_count": 4,
   "metadata": {},
   "outputs": [
    {
     "name": "stdout",
     "output_type": "stream",
     "text": [
      "-321\n"
     ]
    }
   ],
   "source": [
    "class Solution:\n",
    "    # @param A : integer\n",
    "    # @return an integer\n",
    "    def reverse(self, x):\n",
    "        sign = -1 if x < 0 else 1\n",
    "        x *= sign\n",
    "        while x:\n",
    "            if x % 10 == 0:\n",
    "                x /= 10\n",
    "            else:\n",
    "                break\n",
    "        x = str(x)\n",
    "        lst = list(x)  \n",
    "        lst.reverse()\n",
    "        x = \"\".join(lst)\n",
    "        x = int(x)\n",
    "        return sign*x\n",
    "\n",
    "o = Solution()\n",
    "print(o.reverse(-123))"
   ]
  }
 ],
 "metadata": {
  "kernelspec": {
   "display_name": "Python 3",
   "language": "python",
   "name": "python3"
  },
  "language_info": {
   "codemirror_mode": {
    "name": "ipython",
    "version": 3
   },
   "file_extension": ".py",
   "mimetype": "text/x-python",
   "name": "python",
   "nbconvert_exporter": "python",
   "pygments_lexer": "ipython3",
   "version": "3.7.3"
  }
 },
 "nbformat": 4,
 "nbformat_minor": 2
}
