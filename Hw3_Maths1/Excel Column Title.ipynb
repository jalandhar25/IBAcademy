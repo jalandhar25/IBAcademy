{
 "cells": [
  {
   "cell_type": "markdown",
   "metadata": {},
   "source": [
    "## Excel Column Title:\n",
    "Given a positive integer, return its corresponding column title as appear in an Excel sheet.\n",
    "\n",
    "### For example:\n",
    "    1 -> A\n",
    "    2 -> B\n",
    "    3 -> C\n",
    "    ...\n",
    "    26 -> Z\n",
    "    27 -> AA\n",
    "    28 -> AB "
   ]
  },
  {
   "cell_type": "code",
   "execution_count": 56,
   "metadata": {},
   "outputs": [
    {
     "name": "stdout",
     "output_type": "stream",
     "text": [
      "AN\n"
     ]
    }
   ],
   "source": [
    "class Solution:\n",
    "\t# @param A : integer\n",
    "\t# @return a strings\n",
    "    def convertToTitle(self, n):\n",
    "        res = []\n",
    "        d = {}\n",
    "        for i in range(1,27):\n",
    "            d[i] = d.get(i,chr(64+i))\n",
    "        while n > 0:\n",
    "            rem = n % 26\n",
    "            if rem == 0:\n",
    "                rem = 26\n",
    "                n = n // 26\n",
    "                n -= 1\n",
    "            else:\n",
    "                n = n // 26\n",
    "            \n",
    "            res.append(d[rem])\n",
    "        ans = [ele for ele in reversed(res)]\n",
    "        return ''.join(ans)\n",
    "                  \n",
    "o = Solution()\n",
    "d = (o.convertToTitle(40))\n",
    "print(d)"
   ]
  },
  {
   "cell_type": "code",
   "execution_count": null,
   "metadata": {},
   "outputs": [],
   "source": [
    "# Python program to find Excel column name from a \n",
    "# given column number \n",
    "\n",
    "MAX = 50\n",
    "\n",
    "# Function to print Excel column name \n",
    "# for a given column number \n",
    "def printString(n): \n",
    "\n",
    "\t# To store result (Excel column name) \n",
    "\tstring = [\"\\0\"] * MAX\n",
    "\n",
    "\t# To store current index in str which is result \n",
    "\ti = 0\n",
    "\n",
    "\twhile n > 0: \n",
    "\t\t# Find remainder \n",
    "\t\trem = n % 26\n",
    "\n",
    "\t\t# if remainder is 0, then a \n",
    "\t\t# 'Z' must be there in output \n",
    "\t\tif rem == 0: \n",
    "\t\t\tstring[i] = 'Z'\n",
    "\t\t\ti += 1\n",
    "\t\t\tn = (n / 26) - 1\n",
    "\t\telse: \n",
    "\t\t\tstring[i] = chr((rem - 1) + ord('A')) \n",
    "\t\t\ti += 1\n",
    "\t\t\tn = n / 26\n",
    "\tstring[i] = '\\0'\n",
    "\n",
    "\t# Reverse the string and print result \n",
    "\tstring = string[::-1] \n",
    "\tprint \"\".join(string) \n",
    "\n",
    "# Driver program to test the above Function \n",
    "printString(26) \n",
    "printString(51) \n",
    "printString(52) \n",
    "printString(80) \n",
    "printString(676) \n",
    "printString(702) \n",
    "printString(705) \n",
    "\n",
    "# This code is contributed by BHAVYA JAIN \n"
   ]
  }
 ],
 "metadata": {
  "kernelspec": {
   "display_name": "Python 3",
   "language": "python",
   "name": "python3"
  },
  "language_info": {
   "codemirror_mode": {
    "name": "ipython",
    "version": 3
   },
   "file_extension": ".py",
   "mimetype": "text/x-python",
   "name": "python",
   "nbconvert_exporter": "python",
   "pygments_lexer": "ipython3",
   "version": "3.7.3"
  }
 },
 "nbformat": 4,
 "nbformat_minor": 2
}
