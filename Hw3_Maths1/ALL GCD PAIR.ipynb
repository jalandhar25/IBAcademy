{
 "cells": [
  {
   "cell_type": "markdown",
   "metadata": {},
   "source": [
    "## ALL GCD PAIR:\n",
    "Given an array of integers A of size N containing GCD of every possible pair of elements of another array. Find and return the original numbers which are used to calculate the GCD array in any order.\n",
    "\n",
    "For example, if original numbers are {2, 8, 10} then the given array will be {2, 2, 2, 2, 8, 2, 2, 2, 10}. \n",
    "\n",
    "### Input Format\n",
    "The first and only argument given is the integer array A.\n",
    "\n",
    "### Output Format\n",
    "Find and return the original numbers which are used to calculate the GCD array in any order.    \n",
    "\n",
    "### Constraints\n",
    "1 <= N <= 10000\n",
    "\n",
    "0 <= A[i] <= 100000\n",
    "\n",
    "## For Example\n",
    "\n",
    "### Input 1:\n",
    "    A = [2, 2, 2, 2, 8, 2, 2, 2, 10]\n",
    "\n",
    "### Output 1:\n",
    "    [2, 8, 10]\n",
    "\n",
    "### Input 2:\n",
    "    A = [5 5 5 15 ]\n",
    "\n",
    "### Output 2:\n",
    "    [5, 15]"
   ]
  },
  {
   "cell_type": "code",
   "execution_count": null,
   "metadata": {},
   "outputs": [],
   "source": [
    "class Solution:\n",
    "    # @param A : list of integers\n",
    "    # @return a list of integers\n",
    "    def solve(self, A):\n"
   ]
  }
 ],
 "metadata": {
  "kernelspec": {
   "display_name": "Python 3",
   "language": "python",
   "name": "python3"
  },
  "language_info": {
   "codemirror_mode": {
    "name": "ipython",
    "version": 3
   },
   "file_extension": ".py",
   "mimetype": "text/x-python",
   "name": "python",
   "nbconvert_exporter": "python",
   "pygments_lexer": "ipython3",
   "version": "3.7.3"
  }
 },
 "nbformat": 4,
 "nbformat_minor": 2
}
