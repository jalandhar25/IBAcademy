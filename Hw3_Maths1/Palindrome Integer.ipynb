{
 "cells": [
  {
   "cell_type": "markdown",
   "metadata": {},
   "source": [
    "## Palindrome Integer:\n",
    "Determine whether an integer is a palindrome. Do this without extra space. A palindrome integer is an integer x for which reverse(x) = x where reverse(x) is x with its digit reversed. Negative numbers are not palindromic.\n",
    "\n",
    "## Example :\n",
    "\n",
    "### Input : \n",
    "12121\n",
    "\n",
    "### Output :\n",
    "True\n",
    "\n",
    "### Input :\n",
    "123\n",
    "\n",
    "### Output :\n",
    "False"
   ]
  },
  {
   "cell_type": "code",
   "execution_count": 41,
   "metadata": {},
   "outputs": [
    {
     "name": "stdout",
     "output_type": "stream",
     "text": [
      "True\n"
     ]
    }
   ],
   "source": [
    "class Solution:\n",
    "    # @param A : integer\n",
    "    # @return an integer\n",
    "    def isPalindrome(self, a):\n",
    "        s = str(a)\n",
    "        n = len(s)\n",
    "        for i in range(n//2):\n",
    "            if s[i] != s[n-1-i]:\n",
    "                return False\n",
    "        return True\n",
    "o = Solution()\n",
    "print(o.isPalindrome(21474847412))"
   ]
  }
 ],
 "metadata": {
  "kernelspec": {
   "display_name": "Python 3",
   "language": "python",
   "name": "python3"
  },
  "language_info": {
   "codemirror_mode": {
    "name": "ipython",
    "version": 3
   },
   "file_extension": ".py",
   "mimetype": "text/x-python",
   "name": "python",
   "nbconvert_exporter": "python",
   "pygments_lexer": "ipython3",
   "version": "3.7.3"
  }
 },
 "nbformat": 4,
 "nbformat_minor": 2
}
