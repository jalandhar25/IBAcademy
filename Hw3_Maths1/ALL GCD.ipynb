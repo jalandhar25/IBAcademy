{
 "cells": [
  {
   "cell_type": "markdown",
   "metadata": {},
   "source": [
    "## ALL GCD:\n",
    "Given an array of integers A of size N. Find and return how many distinct gcd( sub(A) ) values are possible, where sub(A) is any non-empty subsequence of arraya A.\n",
    "\n",
    "NOTE: gcd here refers to greatest common divisor. \n",
    "\n",
    "### Input Format\n",
    "The first argument given is the integer array A.\n",
    "\n",
    "### Output Format\n",
    "Return how many distinct gcd( sub(A) ) values are possible, where sub(A) is any subsequence of array A.\n",
    "\n",
    "### Constraints\n",
    "1 <= N <= 1000\n",
    "\n",
    "1 <= A[i] <= 1000\n",
    "\n",
    "## For Example\n",
    "\n",
    "### Input 1:\n",
    "    A = [3, 2, 8]\n",
    "\n",
    "### Output 1:\n",
    "    4\n",
    "\n",
    "### Explaination 1:\n",
    "gcd([3]) = 3\n",
    "\n",
    "gcd([3, 2]) = 1\n",
    "\n",
    "gcd([3, 8]) = 1\n",
    "\n",
    "gcd([2]) = 2\n",
    "\n",
    "gcd([2, 8]) = 2\n",
    "\n",
    "gcd([8]) = 8\n",
    "\n",
    "gcd([3, 2, 8]) = 1\n",
    "\n",
    "There are 4 distinct gcd values (1,2, 3, 8).\n",
    "\n",
    "### Input 2:\n",
    "    A = [5, 17, 3, 11]\n",
    "\n",
    "### Output 2:\n",
    "    5"
   ]
  },
  {
   "cell_type": "code",
   "execution_count": 45,
   "metadata": {},
   "outputs": [
    {
     "name": "stdout",
     "output_type": "stream",
     "text": [
      "18\n"
     ]
    }
   ],
   "source": [
    "def solve(a):\n",
    "    gcds = set()\n",
    "    for i in range(len(a)):\n",
    "        utils(gcds, a[i])\n",
    "    return len(gcds)\n",
    "\n",
    "def utils(gcds, num):\n",
    "    s = gcds.copy()\n",
    "    for val in s:\n",
    "        gcds.add(gcd_helper(val, num))\n",
    "    gcds.add(num)\n",
    "\n",
    "def gcd_helper(A, B):\n",
    "        if A == 0:\n",
    "            return B\n",
    "        return gcd_helper(B%A, A)\n",
    "print(solve([ 54, 91, 100, 61, 16, 60, 94, 73, 30, 24 ]))"
   ]
  },
  {
   "cell_type": "code",
   "execution_count": 48,
   "metadata": {},
   "outputs": [
    {
     "name": "stdout",
     "output_type": "stream",
     "text": [
      "18\n"
     ]
    }
   ],
   "source": [
    "class Solution:\n",
    "    def solve(self, a):\n",
    "        gcds = set()\n",
    "        for i in range(len(a)):\n",
    "            self.gcd(gcds, a[i])\n",
    "        return len(gcds)\n",
    "\n",
    "    def gcd(self, gcds, num):\n",
    "        s = gcds.copy()\n",
    "        for val in s:\n",
    "            gcds.add(self.gcd_helper(val, num))\n",
    "        gcds.add(num)\n",
    "    \n",
    "    def gcd_helper(self, A, B):\n",
    "        if A == 0:\n",
    "            return B\n",
    "        return self.gcd_helper(B%A, A)\n",
    "o = Solution()\n",
    "print(o.solve([ 54, 91, 100, 61, 16, 60, 94, 73, 30, 24 ]))"
   ]
  },
  {
   "cell_type": "code",
   "execution_count": 2,
   "metadata": {},
   "outputs": [
    {
     "name": "stdout",
     "output_type": "stream",
     "text": [
      "[54, 1, 1, 1, 1, 1, 1, 1, 1, 1]\n",
      "[1, 1, 1, 1, 1, 1, 1, 1, 6, 24]\n",
      "4\n"
     ]
    }
   ],
   "source": [
    "class Solution:\n",
    "    def solve(self, a):\n",
    "        n = len(a)\n",
    "        prefix_gcd = [0] * n\n",
    "        suffix_gcd = [0] * n\n",
    "        pre_res = a[0]\n",
    "        suff_res = a[n-1]\n",
    "        prefix_gcd[0] = a[0]\n",
    "        suffix_gcd[n-1] = a[n-1]\n",
    "        for i in range(1,n):\n",
    "            #print(res,a[i])\n",
    "            pre_res = self.gcd(pre_res, a[i]) \n",
    "            #print(res)\n",
    "            prefix_gcd[i] = pre_res\n",
    "        for i in range(n-2, -1, -1):\n",
    "            #print(res,a[i])\n",
    "            suff_res = self.gcd(suff_res, a[i]) \n",
    "            #print(res)\n",
    "            suffix_gcd[i] = suff_res\n",
    "        print(prefix_gcd)\n",
    "        print(suffix_gcd)\n",
    "        res_set = set()\n",
    "        for i in range(n):\n",
    "            res_set.add(prefix_gcd[i])\n",
    "            res_set.add(suffix_gcd[i])\n",
    "        return len(res_set)\n",
    "    def gcd(self, A, B):\n",
    "        #print(A,B)\n",
    "        res = self.gcd_helper(A, B)\n",
    "        return res\n",
    "    def gcd_helper(self, A, B):\n",
    "        if A == 0:\n",
    "            return B\n",
    "        return self.gcd_helper(B%A, A)\n",
    "o = Solution()\n",
    "print(o.solve([ 54, 91, 100, 61, 16, 60, 94, 73, 30, 24 ]))"
   ]
  }
 ],
 "metadata": {
  "kernelspec": {
   "display_name": "Python 3",
   "language": "python",
   "name": "python3"
  },
  "language_info": {
   "codemirror_mode": {
    "name": "ipython",
    "version": 3
   },
   "file_extension": ".py",
   "mimetype": "text/x-python",
   "name": "python",
   "nbconvert_exporter": "python",
   "pygments_lexer": "ipython3",
   "version": "3.7.3"
  }
 },
 "nbformat": 4,
 "nbformat_minor": 2
}
